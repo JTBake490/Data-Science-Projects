{
 "cells": [
  {
   "cell_type": "code",
   "execution_count": null,
   "metadata": {},
   "outputs": [],
   "source": [
    "import urllib.request\n",
    "import sqlite3\n",
    "from html.parser import HTMLParser\n",
    "from contextlib import contextmanager"
   ]
  },
  {
   "cell_type": "code",
   "execution_count": null,
   "metadata": {},
   "outputs": [],
   "source": [
    "url = 'https://pokemondb.net/pokedex/all'\n",
    "req = urllib.request.Request(url, headers={'user-Agent' : 'Mozilla'})\n",
    "\n",
    "with urllib.request.urlopen(req) as html:\n",
    "    page = html.read()\n",
    "    page = str(page)"
   ]
  },
  {
   "cell_type": "code",
   "execution_count": null,
   "metadata": {},
   "outputs": [],
   "source": [
    "# headers -> <div> -- class=\"sortwrap\"\n",
    "\n",
    "# Dex_Numbers -> <span> -- class=\"infocard-cell-data\"\n",
    "\n",
    "# Names -> <span> -- data-alt\n",
    "\n",
    "# Base Stat Totals -> <td> -- class=\"cell-total\"\n",
    "\n",
    "# Other Stats -> <td> -- class=\"cell-num\""
   ]
  },
  {
   "cell_type": "code",
   "execution_count": null,
   "metadata": {},
   "outputs": [],
   "source": [
    "class ParseStartTag(HTMLParser):\n",
    "    def __init__(self, wanted_tag, wanted_attr_key):\n",
    "        super().__init__()\n",
    "        self.wanted_tag = wanted_tag\n",
    "        self.wanted_attr_key = wanted_attr_key\n",
    "        self.data = []\n",
    "        \n",
    "    def handle_starttag(self, tag, attrs):\n",
    "        if tag == self.wanted_tag:\n",
    "            for key, value in attrs:\n",
    "                if key == self.wanted_attr_key:\n",
    "                    self.data.append(value)"
   ]
  },
  {
   "cell_type": "code",
   "execution_count": null,
   "metadata": {},
   "outputs": [],
   "source": [
    "class ParseText(HTMLParser):\n",
    "    def __init__(self, wanted_tag, wanted_attrs):\n",
    "        super().__init__()\n",
    "        self.wanted_tag = wanted_tag\n",
    "        self.wanted_attrs = wanted_attrs\n",
    "        self.flag = False\n",
    "        self.data = []\n",
    "        \n",
    "    def handle_starttag(self, tag, attrs):\n",
    "        if tag == self.wanted_tag and all(attr in attrs for attr in self.wanted_attrs.items()):\n",
    "            self.flag = True\n",
    "            \n",
    "    def handle_data(self, data):\n",
    "        if self.flag == True:\n",
    "            self.data.append(data)\n",
    "            \n",
    "    def handle_endtag(self, tag):\n",
    "        if tag == self.wanted_tag:\n",
    "            self.flag = False"
   ]
  },
  {
   "cell_type": "markdown",
   "metadata": {},
   "source": [
    "### Headers"
   ]
  },
  {
   "cell_type": "code",
   "execution_count": null,
   "metadata": {},
   "outputs": [],
   "source": [
    "header_obj = ParseText('div', {'class' : 'sortwrap'})\n",
    "header_obj.feed(page)\n",
    "headers = header_obj.data"
   ]
  },
  {
   "cell_type": "code",
   "execution_count": null,
   "metadata": {},
   "outputs": [],
   "source": [
    "headers.remove('Type')\n",
    "headers[0], headers[6], headers[7] = 'Dex_Num', 'Sp_Atk', 'Sp_Def'"
   ]
  },
  {
   "cell_type": "markdown",
   "metadata": {},
   "source": [
    "### Names"
   ]
  },
  {
   "cell_type": "code",
   "execution_count": null,
   "metadata": {},
   "outputs": [],
   "source": [
    "names_obj = ParseStartTag('span', 'data-alt')\n",
    "names_obj.feed(page)\n",
    "names = names_obj.data"
   ]
  },
  {
   "cell_type": "code",
   "execution_count": null,
   "metadata": {},
   "outputs": [],
   "source": [
    "names = [name.removesuffix('icon').strip() for name in names]"
   ]
  },
  {
   "cell_type": "markdown",
   "metadata": {},
   "source": [
    "### Dex_Nums"
   ]
  },
  {
   "cell_type": "code",
   "execution_count": null,
   "metadata": {},
   "outputs": [],
   "source": [
    "dex_num = ParseText('span', {'class' : 'infocard-cell-data'})\n",
    "dex_num.feed(page)\n",
    "dex_nums = dex_num.data"
   ]
  },
  {
   "cell_type": "markdown",
   "metadata": {},
   "source": [
    "### Base Totals"
   ]
  },
  {
   "cell_type": "code",
   "execution_count": null,
   "metadata": {},
   "outputs": [],
   "source": [
    "totals = ParseText('td', {'class' : 'cell-total'})\n",
    "totals.feed(page)\n",
    "stat_totals = totals.data"
   ]
  },
  {
   "cell_type": "markdown",
   "metadata": {},
   "source": [
    "### Other Stats"
   ]
  },
  {
   "cell_type": "code",
   "execution_count": null,
   "metadata": {},
   "outputs": [],
   "source": [
    "stats_list = ParseText('td', {'class' : 'cell-num'})\n",
    "stats_list.feed(page)\n",
    "stats_lists_all = stats_list.data"
   ]
  },
  {
   "cell_type": "code",
   "execution_count": null,
   "metadata": {},
   "outputs": [],
   "source": [
    "# Create sublist of lists\n",
    "full = []\n",
    "temp = []\n",
    "for stat in stats_lists_all:\n",
    "    temp.append(stat)\n",
    "    if len(temp) == 6:\n",
    "        full.append(list(temp))\n",
    "        temp.clear()"
   ]
  },
  {
   "cell_type": "code",
   "execution_count": null,
   "metadata": {},
   "outputs": [],
   "source": [
    "rows = list(map(list, zip(dex_nums, names, stat_totals)))"
   ]
  },
  {
   "cell_type": "code",
   "execution_count": null,
   "metadata": {},
   "outputs": [],
   "source": [
    "iter_full = iter(full)\n",
    "for pokemon in rows:\n",
    "    pokemon.extend(next(iter_full))"
   ]
  },
  {
   "cell_type": "markdown",
   "metadata": {},
   "source": [
    "### SQL TIME"
   ]
  },
  {
   "cell_type": "code",
   "execution_count": null,
   "metadata": {},
   "outputs": [],
   "source": [
    "with sqlite3.connect('./PokemonSQL.sqlite') as con:\n",
    "    cur = con.cursor()\n",
    "    \n",
    "    cur.execute(f'''CREATE TABLE pokemon(\n",
    "                {headers[0]} TEXT,\n",
    "                {headers[1]} TEXT,\n",
    "                {headers[2]} INTEGER,\n",
    "                {headers[3]} INTEGER,\n",
    "                {headers[4]} INTEGER,\n",
    "                {headers[5]} INTEGER,\n",
    "                {headers[6]} INTEGER,\n",
    "                {headers[7]} INTEGER,\n",
    "                {headers[8]} INTEGER)\n",
    "    ''')\n",
    "    \n",
    "    query = f'INSERT INTO pokemon ({\",\".join(headers)}) VALUES ({\",\".join(\"?\" * len(headers))})'\n",
    "    \n",
    "    for row in rows:\n",
    "        cur.execute(query, row)\n",
    "        \n",
    "    con.commit()\n",
    "    cur.close()"
   ]
  },
  {
   "cell_type": "markdown",
   "metadata": {},
   "source": [
    "### Queries"
   ]
  },
  {
   "cell_type": "code",
   "execution_count": null,
   "metadata": {},
   "outputs": [],
   "source": [
    "@contextmanager\n",
    "def Query(query, database='./PokemonSQL.sqlite'):\n",
    "    try:\n",
    "        con = sqlite3.connect(database)\n",
    "        cur = con.cursor()\n",
    "        yield cur.execute(query)\n",
    "    finally:\n",
    "        cur.close()\n",
    "        con.close()"
   ]
  },
  {
   "cell_type": "code",
   "execution_count": null,
   "metadata": {},
   "outputs": [],
   "source": [
    "# Get all pokemon with Mega in the name\n",
    "query = '''SELECT * FROM pokemon WHERE Name LIKE \"Mega %\";'''\n",
    "with Query(query) as finder:\n",
    "    result = finder.fetchall()"
   ]
  },
  {
   "cell_type": "code",
   "execution_count": null,
   "metadata": {
    "scrolled": false
   },
   "outputs": [],
   "source": [
    "result"
   ]
  },
  {
   "cell_type": "code",
   "execution_count": null,
   "metadata": {},
   "outputs": [],
   "source": [
    "# Get pokemon with the highest HP\n",
    "query = '''SELECT Name, HP\n",
    "            FROM pokemon \n",
    "            WHERE HP >= 200\n",
    "            ORDER BY HP\n",
    "            DESC;'''"
   ]
  },
  {
   "cell_type": "code",
   "execution_count": null,
   "metadata": {},
   "outputs": [],
   "source": [
    "with Query(query) as finder:\n",
    "    result = finder.fetchall()"
   ]
  },
  {
   "cell_type": "code",
   "execution_count": null,
   "metadata": {},
   "outputs": [],
   "source": [
    "result"
   ]
  },
  {
   "cell_type": "code",
   "execution_count": null,
   "metadata": {},
   "outputs": [],
   "source": []
  }
 ],
 "metadata": {
  "kernelspec": {
   "display_name": "Python 3 (ipykernel)",
   "language": "python",
   "name": "python3"
  },
  "language_info": {
   "codemirror_mode": {
    "name": "ipython",
    "version": 3
   },
   "file_extension": ".py",
   "mimetype": "text/x-python",
   "name": "python",
   "nbconvert_exporter": "python",
   "pygments_lexer": "ipython3",
   "version": "3.9.1"
  }
 },
 "nbformat": 4,
 "nbformat_minor": 4
}
